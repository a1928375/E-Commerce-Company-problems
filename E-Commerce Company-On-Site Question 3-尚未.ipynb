{
 "cells": [
  {
   "cell_type": "markdown",
   "metadata": {},
   "source": [
    "# Mine"
   ]
  },
  {
   "cell_type": "code",
   "execution_count": null,
   "metadata": {},
   "outputs": [],
   "source": [
    "def overlap(r1, r2):\n",
    "    \n",
    "    xrangeR1 = range(r1[\"x\"], r1[\"x\"] + r1[\"w\"] + 1)\n",
    "    \n",
    "    yrangeR1 = range(r1[\"y\"], r1[\"y\"] + r1[\"h\"] + 1)\n",
    "    \n",
    "    xrangeR2 = range(r2[\"x\"], r2[\"x\"] + r2[\"w\"] + 1)\n",
    "    \n",
    "    yrangeR2 = range(r2[\"y\"], r2[\"y\"] + r2[\"h\"] + 1)\n",
    "    \n",
    "    result = {}\n",
    "    \n",
    "    \n",
    "    if r1[\"x\"] in xrangeR2 and r1[\"y\"] in yrangeR2:\n",
    "        \n",
    "        result[\"x\"] = r1[\"x\"]\n",
    "        \n",
    "        result[\"y\"] = r1[\"y\"]\n",
    "        \n",
    "        result[\"w\"] = r2[\"x\"] + r2[\"w\"] - r1[\"x\"]\n",
    "        \n",
    "        result[\"h\"] = r2[\"y\"] + r2[\"h\"] - r1[\"y\"]\n",
    "        \n",
    "        return result\n",
    "        \n",
    "        \n",
    "    elif r1[\"x\"] + r1[\"w\"] in xrangeR2 and r1[\"y\"] in yrangeR2:\n",
    "        \n",
    "        result[\"x\"] = r2[\"x\"]\n",
    "        \n",
    "        result[\"y\"] = r1[\"y\"]\n",
    "        \n",
    "        result[\"w\"] = r1[\"x\"] + r1[\"w\"] - r2[\"x\"]\n",
    "        \n",
    "        result[\"h\"] = r2[\"y\"] + r2[\"h\"] - r1[\"y\"]\n",
    "    \n",
    "    \n",
    "    elif r1[\"x\"] in xrangeR2 and r1[\"y\"] + r1[\"h\"] in yrangeR2:\n",
    "        \n",
    "        result[\"x\"] = r1[\"x\"]\n",
    "            \n",
    "        result[\"y\"] = r1[\"y\"]\n",
    "        \n",
    "        result[\"w\"] = r2[\"x\"] + r2[\"w\"] - r1[\"x\"]\n",
    "        \n",
    "        result[\"h\"] = r1[\"y\"] + r1[\"h\"]\n",
    "        \n",
    "        \n",
    "    elif r1[\"x\"] + r1[\"w\"] in xrangeR2 and r1[\"y\"] + r1[\"h\"] in yrangeR2:\n",
    "        \n",
    "        result[\"x\"] = \n",
    "        \n",
    "        result[\"y\"] = \n",
    "        \n",
    "        result[\"w\"] = \n",
    "        \n",
    "        result[\"h\"] = \n",
    "        \n",
    "    \n",
    "    else:\n",
    "        \n",
    "        return False\n",
    "        \n",
    "        \n",
    "    \n",
    "\n",
    "\n",
    "r1 = {  'x':2 , 'y':4,\n",
    "         \n",
    "         'w':5, 'h':12}\n",
    "         \n",
    "r2 = {  'x':1 , 'y':0,\n",
    "         \n",
    "         'w':2, 'h':3}\n",
    "\n",
    "print (overlap(r1, r2))"
   ]
  },
  {
   "cell_type": "code",
   "execution_count": null,
   "metadata": {},
   "outputs": [],
   "source": [
    "r1 = {   'x': 2 , 'y': 4,\n",
    "         'w':5,'h':12}\n",
    "\n",
    "r2 = {   'x': 2 , 'y': 4,\n",
    "         'w':5,'h':12}"
   ]
  },
  {
   "cell_type": "markdown",
   "metadata": {},
   "source": [
    "# Instructor"
   ]
  },
  {
   "cell_type": "code",
   "execution_count": 1,
   "metadata": {},
   "outputs": [],
   "source": [
    "def calc_overlap(coor1,dim1,coor2,dim2):\n",
    "    \"\"\"\n",
    "    Takes in 2 coordinates and their length in that dimension\n",
    "    \"\"\"\n",
    "    # Find greater of the two coordinates\n",
    "    # (this is either the point to the most right\n",
    "    #  or the higher point, depending on the dimension)\n",
    "    \n",
    "    # The greater point would be the start of the overlap\n",
    "    greater = max(coor1,coor2)\n",
    "    \n",
    "    # The lower point is the end of the overlap\n",
    "    lower = min(coor1+dim1,coor2+dim2)\n",
    "    \n",
    "    # Return a tuple of Nones if there is no overlap\n",
    "    \n",
    "    if greater >= lower:\n",
    "        return (None,None)\n",
    "    \n",
    "    # Otherwise, get the overlap length\n",
    "    overlap = lower-greater\n",
    "    \n",
    "    return (greater,overlap)\n"
   ]
  },
  {
   "cell_type": "code",
   "execution_count": 3,
   "metadata": {},
   "outputs": [],
   "source": [
    "def calc_rect_overlap(r1,r2):\n",
    "    \n",
    "    x_overlap, w_overlap = calc_overlap(r1['x'],r1['w'],r2['x'],r2['w'])\n",
    "    \n",
    "    y_overlap, h_overlap = calc_overlap(r1['y'],r1['h'],r2['y'],r2['h'])\n",
    "    \n",
    "    # If either returned None tuples, then there is no overlap! => 只有1 axis overlap\n",
    "    if not w_overlap or not h_overlap:   #也可寫 if not x_overlap or not y_overlap:  => 因為calc_overlap的return是tuple\n",
    "        \n",
    "        print ('There was no overlap!')\n",
    "        return None\n",
    "    \n",
    "    # Otherwise return the dictionary format of the overlapping rectangle\n",
    "    return { 'x':x_overlap,'y': y_overlap,'w':w_overlap,'h':h_overlap}\n"
   ]
  },
  {
   "cell_type": "code",
   "execution_count": 4,
   "metadata": {},
   "outputs": [
    {
     "data": {
      "text/plain": [
       "{'x': 2, 'y': 5, 'w': 5, 'h': 11}"
      ]
     },
     "execution_count": 4,
     "metadata": {},
     "output_type": "execute_result"
    }
   ],
   "source": [
    "r1 = {'x': 2 , 'y': 4,'w':5,'h':12}\n",
    "r2 = {'x': 1 , 'y': 5,'w':7,'h':14}\n",
    "calc_rect_overlap(r1,r2)"
   ]
  }
 ],
 "metadata": {
  "kernelspec": {
   "display_name": "Python 3",
   "language": "python",
   "name": "python3"
  },
  "language_info": {
   "codemirror_mode": {
    "name": "ipython",
    "version": 3
   },
   "file_extension": ".py",
   "mimetype": "text/x-python",
   "name": "python",
   "nbconvert_exporter": "python",
   "pygments_lexer": "ipython3",
   "version": "3.7.3"
  }
 },
 "nbformat": 4,
 "nbformat_minor": 2
}
