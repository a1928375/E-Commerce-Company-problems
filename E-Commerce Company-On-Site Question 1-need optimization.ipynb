{
 "cells": [
  {
   "cell_type": "markdown",
   "metadata": {},
   "source": [
    "# Mine-O(n^2)"
   ]
  },
  {
   "cell_type": "code",
   "execution_count": 12,
   "metadata": {},
   "outputs": [],
   "source": [
    "def max_profit(list):\n",
    "    \n",
    "    maximum = 0\n",
    "    \n",
    "    for i in range(len(list)):\n",
    "        \n",
    "        for j in range(i+1, len(list)):\n",
    "            \n",
    "            if list[j]-list[i] > maximum:\n",
    "                \n",
    "                maximum = list[j]-list[i]\n",
    "    \n",
    "    return maximum\n"
   ]
  },
  {
   "cell_type": "code",
   "execution_count": 13,
   "metadata": {},
   "outputs": [
    {
     "name": "stdout",
     "output_type": "stream",
     "text": [
      "20.8 µs ± 5.35 µs per loop (mean ± std. dev. of 7 runs, 100000 loops each)\n"
     ]
    }
   ],
   "source": [
    "prices = [12,11,15,3,10]\n",
    "\n",
    "max_profit(prices)\n",
    "\n",
    "%timeit max_profit([10,12,14,12,13,11,8,7,6,13,23,45,11,10])"
   ]
  },
  {
   "cell_type": "markdown",
   "metadata": {},
   "source": [
    "# Instructor-O(n)\n",
    "\n",
    "# no negative tracking"
   ]
  },
  {
   "cell_type": "code",
   "execution_count": 1,
   "metadata": {},
   "outputs": [],
   "source": [
    "def profit(stock_prices):\n",
    "    \n",
    "    # Start minimum price marker at first price\n",
    "    min_stock_price = stock_prices[0]\n",
    "    \n",
    "    # Start off with a profit of zero\n",
    "    max_profit = 0\n",
    "    \n",
    "    for price in stock_prices:\n",
    "        \n",
    "        # Check to set the lowest stock price so far\n",
    "        min_stock_price = min(min_stock_price,price)\n",
    "        \n",
    "        # Check the current price against our minimum for a profit \n",
    "        # comparison against the max_profit\n",
    "        comparison_profit = price - min_stock_price\n",
    "        \n",
    "        # Compare against our max_profit so far\n",
    "        max_profit = max(max_profit,comparison_profit)\n",
    "        \n",
    "    return max_profit\n"
   ]
  },
  {
   "cell_type": "code",
   "execution_count": 14,
   "metadata": {},
   "outputs": [
    {
     "name": "stdout",
     "output_type": "stream",
     "text": [
      "7.99 µs ± 2.46 µs per loop (mean ± std. dev. of 7 runs, 100000 loops each)\n"
     ]
    }
   ],
   "source": [
    "profit([10,12,14,12,13,11,8,7,6,13,23,45,11,10])\n",
    "\n",
    "%timeit profit([10,12,14,12,13,11,8,7,6,13,23,45,11,10])"
   ]
  },
  {
   "cell_type": "markdown",
   "metadata": {},
   "source": [
    "# Instructor-O(n)\n",
    "\n",
    "# negative tracking"
   ]
  },
  {
   "cell_type": "code",
   "execution_count": 6,
   "metadata": {},
   "outputs": [],
   "source": [
    "def profit2(stock_prices):\n",
    "    \n",
    "    # Check length\n",
    "    if len(stock_prices) < 2:\n",
    "        raise Exception('Need at least two stock prices!')\n",
    "    \n",
    "    # Start minimum price marker at first price\n",
    "    min_stock_price = stock_prices[0]\n",
    "    \n",
    "    # Start off with an initial max profit\n",
    "    max_profit = stock_prices[1] - stock_prices[0]\n",
    "    \n",
    "    # Skip first index of 0\n",
    "    for price in stock_prices[1:]:          \n",
    "        # NOTE THE REORDERING HERE DUE TO THE NEGATIVE PROFIT TRACKING     \n",
    "        # Check the current price against our minimum for a profit \n",
    "        # comparison against the max_profit\n",
    "        comparison_profit = price - min_stock_price       # comparison_profit要放在第一項，因為此時min_stock_price = stock_prices[0]\n",
    "        \n",
    "        # Compare against our max_profit so far\n",
    "        max_profit = max(max_profit,comparison_profit)\n",
    "        \n",
    "        # Check to set the lowest stock price so far\n",
    "        min_stock_price = min(min_stock_price,price)      # if  min_stock_price放在第一項 => min_stock_price一定 = price (因為price list是漸小)\n",
    "                                                          #所以comparison_profit就會 = price - price = 0\n",
    "                                                          # comparison_profit永遠是0 => wrong\n",
    "        \n",
    "    return max_profit\n",
    "    "
   ]
  },
  {
   "cell_type": "code",
   "execution_count": 9,
   "metadata": {},
   "outputs": [
    {
     "data": {
      "text/plain": [
       "39"
      ]
     },
     "execution_count": 9,
     "metadata": {},
     "output_type": "execute_result"
    }
   ],
   "source": [
    "profit2([10,12,14,12,13,11,8,7,6,13,23,45,11,10])"
   ]
  },
  {
   "cell_type": "code",
   "execution_count": 10,
   "metadata": {},
   "outputs": [
    {
     "data": {
      "text/plain": [
       "-1"
      ]
     },
     "execution_count": 10,
     "metadata": {},
     "output_type": "execute_result"
    }
   ],
   "source": [
    "profit2([30,22,21,5])"
   ]
  }
 ],
 "metadata": {
  "kernelspec": {
   "display_name": "Python 3",
   "language": "python",
   "name": "python3"
  },
  "language_info": {
   "codemirror_mode": {
    "name": "ipython",
    "version": 3
   },
   "file_extension": ".py",
   "mimetype": "text/x-python",
   "name": "python",
   "nbconvert_exporter": "python",
   "pygments_lexer": "ipython3",
   "version": "3.7.3"
  }
 },
 "nbformat": 4,
 "nbformat_minor": 2
}
