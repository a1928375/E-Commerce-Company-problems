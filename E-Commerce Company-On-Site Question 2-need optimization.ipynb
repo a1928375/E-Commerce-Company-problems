{
 "cells": [
  {
   "cell_type": "markdown",
   "metadata": {},
   "source": [
    "# Mine-O(n^2)"
   ]
  },
  {
   "cell_type": "code",
   "execution_count": 2,
   "metadata": {},
   "outputs": [],
   "source": [
    "def product(list):\n",
    "    \n",
    "    tem = []\n",
    "    result = []\n",
    "    \n",
    "    for i in range(len(list)):\n",
    "        \n",
    "        tem = list[:i] + list[i+1:]\n",
    "        \n",
    "        pre = 1\n",
    "        \n",
    "        for j in tem:\n",
    "            \n",
    "            pre = pre * j\n",
    "        \n",
    "        result.append(pre)\n",
    "    \n",
    "    return result\n"
   ]
  },
  {
   "cell_type": "code",
   "execution_count": 6,
   "metadata": {},
   "outputs": [
    {
     "name": "stdout",
     "output_type": "stream",
     "text": [
      "[24, 12, 8, 6]\n",
      "61.9 µs ± 23.4 µs per loop (mean ± std. dev. of 7 runs, 10000 loops each)\n"
     ]
    }
   ],
   "source": [
    "L = [1,2,3,4] \n",
    "\n",
    "print (product(L))\n",
    "\n",
    "%timeit product([1,2,3,4,5,6,7,8,9,10,11,12,13,14,151,6,17,18,19,20,21,22,23,24,25])"
   ]
  },
  {
   "cell_type": "markdown",
   "metadata": {},
   "source": [
    "# Instructor-O(n)\n",
    "# complicated，找出  本身以左的乘積   &   本身以右的乘積，再將2乘積相乘，即ans. => 為了解決O(n^2)"
   ]
  },
  {
   "cell_type": "code",
   "execution_count": 4,
   "metadata": {},
   "outputs": [],
   "source": [
    "def index_prod(lst):\n",
    "    \n",
    "    # Create an empty output list\n",
    "    output = [None] * len(lst)\n",
    "    \n",
    "    # Set initial product and index for greedy run forward\n",
    "    product = 1\n",
    "    \n",
    "    i = 0\n",
    "    \n",
    "    while i < len(lst):\n",
    "        \n",
    "        # Set index as cumulative product\n",
    "        output[i] = product\n",
    "        \n",
    "        # Cumulative product\n",
    "        product *= lst[i]\n",
    "        \n",
    "        # Move forward\n",
    "        i +=1\n",
    "        \n",
    "    # Now for our Greedy run Backwards\n",
    "    product = 1\n",
    "    \n",
    "    # Start index at last (taking into account index 0)\n",
    "    i = len(lst) - 1\n",
    "    \n",
    "    # Until the beginning of the list\n",
    "    while i >=0:\n",
    "        \n",
    "        # Same operations as before, just backwards\n",
    "        output[i] *= product\n",
    "        \n",
    "        product *= lst[i]\n",
    "        \n",
    "        i -= 1\n",
    "        \n",
    "    return output\n",
    "\n",
    "# forward:   [1, 1, 2, 6]       1st element is 1, because the left element of 原list的第一element是不存在，所以設為1\n",
    "# backward:  [24, 12, 4, 1]     last element is 1, because the right element of 原list的第四element是不存在，所以設為1\n",
    "\n",
    "# result = forward * backward = [24, 12, 8, 6]\n"
   ]
  },
  {
   "cell_type": "code",
   "execution_count": 7,
   "metadata": {},
   "outputs": [
    {
     "name": "stdout",
     "output_type": "stream",
     "text": [
      "19 µs ± 5.51 µs per loop (mean ± std. dev. of 7 runs, 10000 loops each)\n"
     ]
    }
   ],
   "source": [
    "%timeit index_prod([1,2,3,4,5,6,7,8,9,10,11,12,13,14,151,6,17,18,19,20,21,22,23,24,25])"
   ]
  }
 ],
 "metadata": {
  "kernelspec": {
   "display_name": "Python 3",
   "language": "python",
   "name": "python3"
  },
  "language_info": {
   "codemirror_mode": {
    "name": "ipython",
    "version": 3
   },
   "file_extension": ".py",
   "mimetype": "text/x-python",
   "name": "python",
   "nbconvert_exporter": "python",
   "pygments_lexer": "ipython3",
   "version": "3.7.3"
  }
 },
 "nbformat": 4,
 "nbformat_minor": 2
}
